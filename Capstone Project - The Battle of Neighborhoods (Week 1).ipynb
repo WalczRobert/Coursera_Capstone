{
 "cells": [
  {
   "cell_type": "markdown",
   "metadata": {},
   "source": [
    "# Battle of Neighborhoods - Week 1"
   ]
  },
  {
   "cell_type": "markdown",
   "metadata": {},
   "source": [
    "## Part 1 - A description of the problem and a discussion of the background."
   ]
  },
  {
   "cell_type": "markdown",
   "metadata": {},
   "source": [
    "### 1.1 Description of the Problem"
   ]
  },
  {
   "cell_type": "markdown",
   "metadata": {},
   "source": [
    "Des Moines Iowa is growing faster than the public works can keep up with. There are many diverse resturants clustered in populated areas. This makes resturant start-up very risky."
   ]
  },
  {
   "cell_type": "markdown",
   "metadata": {},
   "source": [
    "### 1.2 Discussion of the Background"
   ]
  },
  {
   "cell_type": "markdown",
   "metadata": {},
   "source": [
    "A small chain restaurant would like to open a restaurant in downtown Des Moines. Because the area is already dense with clusters of restaurants location is detrimental in the success of the restaurant. \n",
    "This small chain restaurant has hired me to identify the best location for their cuisine."
   ]
  },
  {
   "cell_type": "markdown",
   "metadata": {},
   "source": [
    "## Part 2 - A description of the data and how it will be used to solve the problem"
   ]
  },
  {
   "cell_type": "markdown",
   "metadata": {},
   "source": [
    "### 2.1 Description of Data\n"
   ]
  },
  {
   "cell_type": "markdown",
   "metadata": {},
   "source": [
    "This project will use public data from Wikipedia.com and Foursquare.com.\n",
    "\n",
    "Based on definition of our problem, factors that will influence our decision are:\n",
    "\n",
    "    1. number of existing restaurants in the area \n",
    "    2. number of and distance to  restaurants in the area\n",
    "\n",
    "The following data sources will be needed to extract/generate the required information:\n",
    "\n",
    "    1. centers of target areas will be generated  and approximate addresses of centers of those areas will be obtained using the given list of neighborhoods.\n",
    "    2. The number of restaurants and their type and location in every neighborhood will be obtained using Foursquare.\n"
   ]
  },
  {
   "cell_type": "markdown",
   "metadata": {},
   "source": [
    "### 2.2 How data will be used to solve the problem"
   ]
  },
  {
   "cell_type": "markdown",
   "metadata": {},
   "source": [
    "The data from the datasets will be explored by considering the venues within the neighborhood of Des Moines Postcode areas. The number of venues will be limited to 100 sites (Foursquare restriction).The area's restaurants will be checked in terms of the types of restaurants within a specified mile radius. The proximity to high traffic areas and other amenities will be correlated. "
   ]
  },
  {
   "cell_type": "code",
   "execution_count": null,
   "metadata": {},
   "outputs": [],
   "source": []
  }
 ],
 "metadata": {
  "kernelspec": {
   "display_name": "Python 3",
   "language": "python",
   "name": "python3"
  },
  "language_info": {
   "codemirror_mode": {
    "name": "ipython",
    "version": 3
   },
   "file_extension": ".py",
   "mimetype": "text/x-python",
   "name": "python",
   "nbconvert_exporter": "python",
   "pygments_lexer": "ipython3",
   "version": "3.6.8"
  }
 },
 "nbformat": 4,
 "nbformat_minor": 2
}
